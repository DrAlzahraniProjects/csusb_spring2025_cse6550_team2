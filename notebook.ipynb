{
 "cells": [
  {
   "cell_type": "markdown",
   "id": "6e71d6a0",
   "metadata": {},
   "source": [
    "# Hello, World, from Jupyter Notebook"
   ]
  },
  {
   "cell_type": "markdown",
   "id": "bd9c91d2",
   "metadata": {},
   "source": [
    "Instructions for building a chatbot will ultimately be written here."
   ]
  }
 ],
 "metadata": {
  "kernelspec": {
   "display_name": "Python 3 (ipykernel)",
   "language": "python",
   "name": "python3"
  },
  "language_info": {
   "codemirror_mode": {
    "name": "ipython",
    "version": 3
   },
   "file_extension": ".py",
   "mimetype": "text/x-python",
   "name": "python",
   "nbconvert_exporter": "python",
   "pygments_lexer": "ipython3",
   "version": "3.10.16"
  }
 },
 "nbformat": 4,
 "nbformat_minor": 5
}
