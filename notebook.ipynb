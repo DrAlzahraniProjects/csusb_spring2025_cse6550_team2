{
 "cells": [
  {
   "cell_type": "markdown",
   "metadata": {},
   "source": [
    "# Building a Simple Chatbot in Jupyter Notebook\n",
    "This notebook will guide you through building a simple chatbot using Python."
   ]
  },
  {
   "cell_type": "markdown",
   "metadata": {},
   "source": [
    "## Step 1: Import Required Libraries"
   ]
  },
  {
   "cell_type": "code",
   "execution_count": null,
   "metadata": {},
   "outputs": [],
   "source": [
    "import random\n",
    "import re\n"
   ]
  },
  {
   "cell_type": "markdown",
   "metadata": {},
   "source": [
    "*Explanation:*\n",
    "1. random allows the chatbot to select responses randomly.\n",
    "2. re (Regular Expressions) helps match user input patterns.\n",
    "3. These libraries enable chatbot functionality.\n",
    "4. Keeping dependencies minimal ensures a lightweight program.\n",
    "5. Now, let's define chatbot responses."
   ]
  },
  {
   "cell_type": "markdown",
   "metadata": {},
   "source": [
    "## Step 2: Define Chatbot Responses"
   ]
  },
  {
   "cell_type": "code",
   "execution_count": null,
   "metadata": {},
   "outputs": [],
   "source": [
    "responses = {\n",
    "    \"hello\": [\"Hi there!\", \"Hello!\", \"Hey! How can I assist you?\"],\n",
    "    \"how are you\": [\"I'm a bot, but I'm doing great!\", \"I'm here to help!\"],\n",
    "    \"bye\": [\"Goodbye!\", \"See you later!\", \"Have a nice day!\"]\n",
    "}"
   ]
  },
  {
   "cell_type": "markdown",
   "metadata": {},
   "source": [
    "*Explanation:*\n",
    "1. This dictionary stores chatbot responses.\n",
    "2. The keys represent common user inputs.\n",
    "3. The values are lists of responses (chosen randomly).\n",
    "4. This makes the chatbot interactive and dynamic.\n",
    "5. Next, we need a function to process user input."
   ]
  },
  {
   "cell_type": "markdown",
   "metadata": {},
   "source": [
    "## Step 3: Function to Process Input"
   ]
  },
  {
   "cell_type": "code",
   "execution_count": null,
   "metadata": {},
   "outputs": [],
   "source": [
    "def chatbot_response(user_input):\n",
    "    user_input = user_input.lower()\n",
    "    for pattern, replies in responses.items():\n",
    "        if re.search(pattern, user_input):\n",
    "            return random.choice(replies)\n",
    "    return \"I'm not sure how to respond to that.\""
   ]
  },
  {
   "cell_type": "markdown",
   "metadata": {},
   "source": [
    "*Explanation:*\n",
    "1. The function takes user input and converts it to lowercase.\n",
    "2. It iterates through the response dictionary.\n",
    "3. It checks if the input matches any key using re.search().\n",
    "4. If a match is found, it selects a random response.\n",
    "5. If no match is found, it returns a default response."
   ]
  },
  {
   "cell_type": "markdown",
   "metadata": {},
   "source": [
    "## Step 4: Running the Chatbot"
   ]
  },
  {
   "cell_type": "code",
   "execution_count": null,
   "metadata": {},
   "outputs": [],
   "source": [
    "while True:\n",
    "    user_input = input(\"You: \")\n",
    "    if user_input.lower() in [\"exit\", \"quit\", \"bye\"]:\n",
    "        print(\"Chatbot: Goodbye!\")\n",
    "        break\n",
    "    print(\"Chatbot:\", chatbot_response(user_input))"
   ]
  },
  {
   "cell_type": "markdown",
   "metadata": {},
   "source": [
    "*Explanation:*\n",
    "1. This loop continuously runs the chatbot.\n",
    "2. It takes user input through input().\n",
    "3. If the user types 'exit', 'quit', or 'bye', the chatbot stops.\n",
    "4. Otherwise, it calls the chatbot_response() function.\n",
    "5. The chatbot prints a response and continues the conversation."
   ]
  },
  {
   "cell_type": "markdown",
   "metadata": {},
   "source": [
    "## Conclusion & Next Steps\n",
    "You now have a basic chatbot! You can improve it by:\n",
    "- Using *Natural Language Processing (NLP)* for smarter responses.\n",
    "- Integrating *APIs* to fetch real-time information.\n",
    "- Training it using *Machine Learning models*.\n",
    "\n",
    "Try modifying the code to add new features!"
   ]
  }
 ],
 "metadata": {
  "kernelspec": {
   "display_name": "Python 3",
   "language": "python",
   "name": "python3"
  }
 },
 "nbformat": 4,
 "nbformat_minor": 5
}
