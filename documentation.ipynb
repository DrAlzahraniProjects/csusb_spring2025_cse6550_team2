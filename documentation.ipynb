{
 "cells": [
  {
   "cell_type": "markdown",
   "id": "2bb6326d",
   "metadata": {},
   "source": [
    "# CSUSB Study Abroad Chatbot"
   ]
  },
  {
   "cell_type": "markdown",
   "id": "1b9f154a",
   "metadata": {},
   "source": [
    "## **1. Introduction**\n",
    "The CSUSB Study Abroad Chatbot is a Streamlit-based chatbot that provides information related to study abroad opportunities at California State University, San Bernardino (CSUSB). This chatbot was developed by Team 2 for CSE 6550: Software Engineering Concepts.\n",
    "\n",
    "In this notebook, we will demonstrate how the chatbot uses retrieval-augmented generation (RAG) to answer questions using study abroad resources as the primary data source."
   ]
  },
  {
   "cell_type": "markdown",
   "id": "2012fb3d",
   "metadata": {},
   "source": [
    "### Features:\n",
    "- A **cooldown system** to limit excessive queries and prevent overloading the server.\n",
    "- **Message persistence** using `st.session_state` to retain chat history.\n",
    "- A **basic interactive UI** that allows users to input questions and receive responses.\n"
   ]
  },
  {
   "cell_type": "markdown",
   "id": "d4fe6881",
   "metadata": {},
   "source": [
    "## **2. Installation Requirements**\n",
    "To run this chatbot, install Streamlit:"
   ]
  },
  {
   "cell_type": "code",
   "execution_count": null,
   "id": "4f885675",
   "metadata": {
    "vscode": {
     "languageId": "plaintext"
    }
   },
   "outputs": [],
   "source": [
    "pip install streamlit"
   ]
  },
  {
   "cell_type": "markdown",
   "id": "758ba0b3",
   "metadata": {},
   "source": [
    "Other built-in Python modules used:\n",
    "- `time`: Used for handling **cooldown timers** and response tracking.\n"
   ]
  },
  {
   "cell_type": "markdown",
   "id": "b8835338",
   "metadata": {},
   "source": [
    "## **3. Code Explanation**"
   ]
  },
  {
   "cell_type": "markdown",
   "id": "7fa6051f",
   "metadata": {},
   "source": [
    "### **3.1 Importing Required Libraries**"
   ]
  },
  {
   "cell_type": "code",
   "execution_count": null,
   "id": "d47240f2",
   "metadata": {
    "vscode": {
     "languageId": "plaintext"
    }
   },
   "outputs": [],
   "source": [
    "import streamlit as st  # Streamlit for web-based chatbot UI\n",
    "import time  # Time module for cooldown system"
   ]
  },
  {
   "cell_type": "markdown",
   "id": "b1f575f6",
   "metadata": {},
   "source": [
    "- `streamlit` is used to create the **interactive chatbot UI**.\n",
    "- `time` is used to **track message cooldown periods** and measure response times."
   ]
  },
  {
   "cell_type": "markdown",
   "id": "63f3e0d6",
   "metadata": {},
   "source": [
    "### **3.2 Cooldown System Configuration**"
   ]
  },
  {
   "cell_type": "code",
   "execution_count": null,
   "id": "9c5c9096",
   "metadata": {
    "vscode": {
     "languageId": "plaintext"
    }
   },
   "outputs": [],
   "source": [
    "COOLDOWN_CHECK_PERIOD: float = 60.  # Time window (in seconds) for checking message frequency\n",
    "MAX_MESSAGES_BEFORE_COOLDOWN: int = 10  # Maximum messages allowed before cooldown activates\n",
    "COOLDOWN_DURATION: float = 180.  # Cooldown period in seconds (3 minutes)"
   ]
  },
  {
   "cell_type": "markdown",
   "id": "83cdd208",
   "metadata": {},
   "source": [
    "- Users can send **10 messages per minute** before hitting a cooldown.\n",
    "- Once the **limit is exceeded**, users must **wait 3 minutes** before sending more messages."
   ]
  },
  {
   "cell_type": "markdown",
   "id": "69060ff0",
   "metadata": {},
   "source": [
    "### **3.3 Cooldown Management Function**"
   ]
  },
  {
   "cell_type": "code",
   "execution_count": null,
   "id": "fe924067",
   "metadata": {
    "vscode": {
     "languageId": "plaintext"
    }
   },
   "outputs": [],
   "source": [
    "def canAnswer() -> bool:\n",
    "    currentTimestamp = time.monotonic()  # Get the current timestamp"
   ]
  },
  {
   "cell_type": "markdown",
   "id": "0cd07e71",
   "metadata": {},
   "source": [
    "- `time.monotonic()` ensures that time **only moves forward**, preventing issues with time tracking.\n",
    "- This function **determines if the chatbot can answer** based on the cooldown status"
   ]
  },
  {
   "cell_type": "code",
   "execution_count": null,
   "id": "10c74b6f",
   "metadata": {
    "vscode": {
     "languageId": "plaintext"
    }
   },
   "outputs": [],
   "source": [
    "if st.session_state[\"cooldownBeginTimestamp\"] is not None:  # Check if cooldown is active\n",
    "        if currentTimestamp - st.session_state[\"cooldownBeginTimestamp\"] >= COOLDOWN_DURATION:\n",
    "            st.session_state[\"cooldownBeginTimestamp\"] = None  # Reset cooldown if time has passed\n",
    "            return True  # Allow user to send a message"
   ]
  },
  {
   "cell_type": "markdown",
   "id": "543f4423",
   "metadata": {},
   "source": [
    "- If **cooldown is active**, it checks whether **enough time has passed**.\n",
    "- If the cooldown period **has expired**, the chatbot resets the cooldown."
   ]
  },
  {
   "cell_type": "code",
   "execution_count": null,
   "id": "135c0852",
   "metadata": {
    "vscode": {
     "languageId": "plaintext"
    }
   },
   "outputs": [],
   "source": [
    "else:\n",
    "        st.session_state[\"messageTimes\"] = st.session_state[\"messageTimes\"][-MAX_MESSAGES_BEFORE_COOLDOWN:]\n",
    "        st.session_state[\"messageTimes\"].append(currentTimestamp)  # Track message timestamps"
   ]
  },
  {
   "cell_type": "markdown",
   "id": "440d22a7",
   "metadata": {},
   "source": [
    "- Stores only the last **10 message timestamps** (removes old ones to manage memory).\n",
    "- Ensures that **only recent messages are considered** for cooldown checks."
   ]
  },
  {
   "cell_type": "code",
   "execution_count": null,
   "id": "914c4dbc",
   "metadata": {
    "vscode": {
     "languageId": "plaintext"
    }
   },
   "outputs": [],
   "source": [
    " if len(st.session_state[\"messageTimes\"]) <= MAX_MESSAGES_BEFORE_COOLDOWN or            st.session_state[\"messageTimes\"][-1] - st.session_state[\"messageTimes\"][-MAX_MESSAGES_BEFORE_COOLDOWN - 1] >= COOLDOWN_CHECK_PERIOD:\n",
    "            return True  # Allow message"
   ]
  },
  {
   "cell_type": "markdown",
   "id": "31409b15",
   "metadata": {},
   "source": [
    "- Checks if the user has sent fewer than **10 messages per minute**.\n",
    "- If the limit is not reached, **they can continue chatting**."
   ]
  },
  {
   "cell_type": "code",
   "execution_count": null,
   "id": "b51e6d08",
   "metadata": {
    "vscode": {
     "languageId": "plaintext"
    }
   },
   "outputs": [],
   "source": [
    "else:\n",
    "            st.session_state[\"cooldownBeginTimestamp\"] = currentTimestamp  # Start cooldown"
   ]
  },
  {
   "cell_type": "markdown",
   "id": "fccb07ed",
   "metadata": {},
   "source": [
    "- **Activates cooldown mode** if the limit is reached.\n"
   ]
  },
  {
   "cell_type": "code",
   "execution_count": null,
   "id": "daa69ce3",
   "metadata": {
    "vscode": {
     "languageId": "plaintext"
    }
   },
   "outputs": [],
   "source": [
    "remainingTime = COOLDOWN_DURATION + st.session_state[\"cooldownBeginTimestamp\"] - currentTimestamp\n",
    "    st.write(f\"ERROR: You've reached the limit of {MAX_MESSAGES_BEFORE_COOLDOWN} messages. Please try again in {int(remainingTime//60)} minutes.\")\n",
    "    return False  # Prevent further messages"
   ]
  },
  {
   "cell_type": "markdown",
   "id": "07c4f14c",
   "metadata": {},
   "source": [
    "\n",
    "- **Calculates the remaining cooldown time** and **displays an error message** if the user must wait."
   ]
  },
  {
   "cell_type": "markdown",
   "id": "27e44c80",
   "metadata": {},
   "source": [
    "### **3.4 Setting Up Streamlit Chat UI**"
   ]
  },
  {
   "cell_type": "code",
   "execution_count": null,
   "id": "2769dd11",
   "metadata": {
    "vscode": {
     "languageId": "plaintext"
    }
   },
   "outputs": [],
   "source": [
    "st.html(\"<h1 style='text-align:center; font-size:48px'>CSUSB Travel Abroad Chatbot</h1>\")"
   ]
  },
  {
   "cell_type": "markdown",
   "id": "781850e1",
   "metadata": {},
   "source": [
    "\n",
    "- Displays the **chatbot title** in large, centered text for better UI."
   ]
  },
  {
   "cell_type": "markdown",
   "id": "696a18cd",
   "metadata": {},
   "source": [
    "\n",
    "\n",
    "### **3.5 Initializing Session Variables**"
   ]
  },
  {
   "cell_type": "code",
   "execution_count": null,
   "metadata": {
    "vscode": {
     "languageId": "plaintext"
    }
   },
   "outputs": [],
   "source": [
    "if \"messages\" not in st.session_state or not isinstance(st.session_state[\"messages\"], list):\n",
    "    st.session_state[\"messages\"] = []  # Store chat history\n",
    "if \"cooldownBeginTimestamp\" not in st.session_state:\n",
    "    st.session_state[\"cooldownBeginTimestamp\"] = None  # Track cooldown start time\n",
    "if \"messageTimes\" not in st.session_state:\n",
    "    st.session_state[\"messageTimes\"] = []  # Store message timestamps"
   ]
  },
  {
   "cell_type": "markdown",
   "id": "7d7eb4da",
   "metadata": {},
   "source": [
    "- **Ensures session state variables are initialized**:\n",
    "  - `messages`: Stores **previous chat messages**.\n",
    "  - `cooldownBeginTimestamp`: Keeps **track of cooldown activation**.\n",
    "  - `messageTimes`: Stores **timestamps of sent messages**."
   ]
  },
  {
   "cell_type": "markdown",
   "id": "ff8f3fbf",
   "metadata": {},
   "source": [
    "### **3.6 Displaying Chat History**"
   ]
  },
  {
   "cell_type": "code",
   "execution_count": null,
   "id": "83e67d4d",
   "metadata": {
    "vscode": {
     "languageId": "plaintext"
    }
   },
   "outputs": [],
   "source": [
    "for message in st.session_state[\"messages\"]:  # Loop through stored messages\n",
    "    with st.chat_message(message[\"role\"]):  # Display message\n",
    "        st.markdown(message[\"content\"])"
   ]
  },
  {
   "cell_type": "markdown",
   "id": "0c1bc4a5",
   "metadata": {},
   "source": [
    "- **Loops through stored messages** and displays them in the chat window.\n",
    "- **Keeps past conversations visible**."
   ]
  },
  {
   "cell_type": "markdown",
   "id": "0489f4de",
   "metadata": {},
   "source": [
    "### **3.7 Handling User Input**"
   ]
  },
  {
   "cell_type": "code",
   "execution_count": null,
   "id": "a4d03604",
   "metadata": {
    "vscode": {
     "languageId": "plaintext"
    }
   },
   "outputs": [],
   "source": [
    "prompt = st.chat_input(\"What is your question?\")  # Capture user input\n",
    "if prompt and canAnswer():  # Check cooldown before processing message"
   ]
  },
  {
   "cell_type": "markdown",
   "id": "57cce998",
   "metadata": {},
   "source": [
    "- `st.chat_input()` **creates an input box** for the user.\n",
    "- Calls `canAnswer()` **to check if the user is allowed to send a message**."
   ]
  },
  {
   "cell_type": "code",
   "execution_count": null,
   "id": "77032802",
   "metadata": {
    "vscode": {
     "languageId": "plaintext"
    }
   },
   "outputs": [],
   "source": [
    " st.chat_message(\"human\").markdown(prompt)  # Display user input\n",
    "    st.session_state[\"messages\"].append({\"role\": \"human\", \"content\": prompt})  # Save message"
   ]
  },
  {
   "cell_type": "markdown",
   "id": "9de816b7",
   "metadata": {},
   "source": [
    "- **Displays the user’s message** in the chat window.\n",
    "- **Saves the message** to maintain chat history."
   ]
  },
  {
   "cell_type": "markdown",
   "id": "a41ef5ac",
   "metadata": {},
   "source": [
    "### **3.8 Processing AI Response**"
   ]
  },
  {
   "cell_type": "code",
   "execution_count": null,
   "id": "71c997e0",
   "metadata": {
    "vscode": {
     "languageId": "plaintext"
    }
   },
   "outputs": [],
   "source": [
    " responseStartTime = time.monotonic()  # Start response timer\n",
    "    with st.chat_message(\"ai\"):\n",
    "        response = \"[LLM response here]\"  # Placeholder for AI-generated text\n",
    "        responseEndTime = time.monotonic()  # End response timer\n",
    "        st.markdown(response)  # Display AI response\n",
    "        st.session_state[\"messages\"].append({\"role\": \"ai\", \"content\": response})  # Save response"
   ]
  },
  {
   "cell_type": "markdown",
   "id": "7a7d7865",
   "metadata": {},
   "source": [
    "- **Tracks response time** for AI-generated messages.\n",
    "- Uses a **placeholder AI response** (`\"[LLM response here]\"`) that can be replaced with an **LLM-generated response**.\n"
   ]
  },
  {
   "cell_type": "code",
   "execution_count": null,
   "id": "066e78b9",
   "metadata": {
    "vscode": {
     "languageId": "plaintext"
    }
   },
   "outputs": [],
   "source": [
    "if responseEndTime:  # Display response time for tracking\n",
    "        st.write(f\"*(Last response took {responseEndTime - responseStartTime:.4f} seconds)*\")"
   ]
  },
  {
   "cell_type": "markdown",
   "id": "971bea59",
   "metadata": {},
   "source": [
    "- **Displays the response time** to track chatbot efficiency."
   ]
  },
  {
   "cell_type": "markdown",
   "id": "fc8ea368",
   "metadata": {},
   "source": [
    "\n",
    "## **4. Summary**"
   ]
  },
  {
   "cell_type": "markdown",
   "id": "8b7ef02d",
   "metadata": {},
   "source": [
    "\n",
    "✅ **Prevents message spam** with a cooldown system.  \n",
    "✅ **Saves chat history** for a seamless conversation flow.  \n",
    "✅ **Provides AI-generated responses** (can be expanded with OpenAI).  \n",
    "✅ **Tracks response time** for performance analysis.  "
   ]
  }
 ],
 "metadata": {
  "language_info": {
   "name": "python"
  }
 },
 "nbformat": 4,
 "nbformat_minor": 5
}
